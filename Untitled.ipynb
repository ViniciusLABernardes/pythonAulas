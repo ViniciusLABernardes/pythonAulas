{
 "cells": [
  {
   "cell_type": "markdown",
   "id": "14efd390",
   "metadata": {},
   "source": [
    "## nome\n",
    "## idade\n",
    "## peso\n",
    "## altura\n",
    "## usuario python\n",
    "## endereço\n",
    "## PCD\n",
    "## Data de nascimento"
   ]
  },
  {
   "cell_type": "markdown",
   "id": "ed5974d0",
   "metadata": {},
   "source": []
  },
  {
   "cell_type": "code",
   "execution_count": 7,
   "id": "8833af53",
   "metadata": {},
   "outputs": [
    {
     "name": "stdout",
     "output_type": "stream",
     "text": [
      "<class 'str'> nome:  vinicius\n",
      "nome:  <class 'int'> 20\n",
      "nome:  <class 'int'>\n",
      "nome:  <class 'float'>\n",
      "<class 'bool'>\n",
      "<class 'str'>\n",
      "<class 'bool'>\n",
      "<class 'int'>\n",
      "<class 'int'>\n",
      "<class 'int'>\n"
     ]
    },
    {
     "data": {
      "text/plain": [
       "['avenida ablablabla 123']"
      ]
     },
     "execution_count": 7,
     "metadata": {},
     "output_type": "execute_result"
    }
   ],
   "source": [
    "nome = \"vinicius\"\n",
    "idade = 20\n",
    "peso = 92\n",
    "altura =1.91\n",
    "usuario_python = True\n",
    "endereco = \"avenida ablablabla 123\"\n",
    "pcd = False\n",
    "dia = 11\n",
    "mes = 9\n",
    "ano = 2001\n",
    "\n",
    "print(type(nome), f\"nome: \" , nome)\n",
    "print(f\"nome: \",type(idade), idade )\n",
    "print(f\"nome: \",type(peso))\n",
    "print(f\"nome: \",type(altura))\n",
    "print(type(usuario_python))\n",
    "print(type(endereco))\n",
    "print(type(pcd))\n",
    "print(type(dia))\n",
    "print(type(mes))\n",
    "print(type(ano))\n",
    "endereco.split(',')"
   ]
  },
  {
   "cell_type": "code",
   "execution_count": null,
   "id": "15272de6",
   "metadata": {},
   "outputs": [],
   "source": []
  },
  {
   "cell_type": "code",
   "execution_count": null,
   "id": "84a5b11a",
   "metadata": {},
   "outputs": [],
   "source": []
  },
  {
   "cell_type": "code",
   "execution_count": null,
   "id": "2235d296",
   "metadata": {},
   "outputs": [],
   "source": []
  },
  {
   "cell_type": "code",
   "execution_count": null,
   "id": "7efff583",
   "metadata": {},
   "outputs": [],
   "source": []
  }
 ],
 "metadata": {
  "kernelspec": {
   "display_name": "Python 3 (ipykernel)",
   "language": "python",
   "name": "python3"
  },
  "language_info": {
   "codemirror_mode": {
    "name": "ipython",
    "version": 3
   },
   "file_extension": ".py",
   "mimetype": "text/x-python",
   "name": "python",
   "nbconvert_exporter": "python",
   "pygments_lexer": "ipython3",
   "version": "3.11.4"
  }
 },
 "nbformat": 4,
 "nbformat_minor": 5
}
