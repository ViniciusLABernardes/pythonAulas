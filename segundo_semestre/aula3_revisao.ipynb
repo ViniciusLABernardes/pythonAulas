{
 "cells": [
  {
   "cell_type": "code",
   "execution_count": 31,
   "metadata": {},
   "outputs": [
    {
     "name": "stdout",
     "output_type": "stream",
     "text": [
      "4\n",
      "{2, 6}\n",
      "{1, 10, 4, 12}\n",
      "{'a': 15, 'b': 20}\n",
      "dict_keys(['a', 'b']) dict_values([15, 20]) dict_items([('a', 15), ('b', 20)])\n",
      "2 5 10 3.3333333333333335 1 3 8\n",
      "3\n",
      "4\n",
      "5\n",
      "6\n",
      "7\n",
      "8\n",
      "9\n",
      "Chave: a - Valor 15\n",
      "Chave: b - Valor 20\n",
      "1 - 16\n",
      "2 - 23\n",
      "3 - 34\n",
      "5\n",
      "4\n",
      "3\n",
      "2\n",
      "1\n"
     ]
    },
    {
     "data": {
      "text/plain": [
       "[6, 12, 18]"
      ]
     },
     "execution_count": 31,
     "metadata": {},
     "output_type": "execute_result"
    }
   ],
   "source": [
    "lista = []\n",
    "tupla = (16,23,34,4)\n",
    "#atribuindo variaveis aos valores da tupla\n",
    "a, b, c, d = tupla\n",
    "\n",
    "print(d)#sera 4\n",
    "\n",
    "conjunto = {10, 2,4,1,6,12,2,1}\n",
    "conjunto2 = {2, 7, 6, 5, 11}\n",
    "\n",
    "print(conjunto.intersection(conjunto2))#printando os itens em comuns desses conjuntos\n",
    "\n",
    "print(conjunto.difference(conjunto2))#printando os itens diferentes do conjunto2\n",
    "\n",
    "dicionario = {'a':10,'b':20}\n",
    "dicionario['a'] = 15 #mudando o valor da chave 'a' do dicionario\n",
    "\n",
    "print(dicionario)\n",
    "\n",
    "print(dicionario.keys(), dicionario.values(), dicionario.items())\n",
    "\n",
    "soma= 1+1\n",
    "subtracao = 10 -5\n",
    "multiplicacao = 2 * 5\n",
    "divisao = 10 / 3\n",
    "resto = 10 % 3\n",
    "divisao_inteira = 10 // 3\n",
    "exponenciacao = 2 ** 3\n",
    "\n",
    "print(soma, subtracao, multiplicacao, divisao, resto, divisao_inteira, exponenciacao)\n",
    "\n",
    "texto = 'palavra'\n",
    "texto + ' outra palavra'\n",
    "\n",
    "'oi' * 5 #multiplicar palavras(sim é possivel com python)\n",
    "\n",
    "#um jeito de percorrer um alcançe(range(de tal numero, ate tal numero, andando de tanto em tanto numero))\n",
    "for i in range(3,10,1):\n",
    "    print(i)\n",
    "\n",
    "#um jeito de percorrer um dicionario\n",
    "for k,v in dicionario.items():\n",
    "    print(f'Chave: {k} - Valor {v}')\n",
    "\n",
    "#jeito de percorrer duas listas \n",
    "for i, j in zip([1,2,3],[a,b,c]):\n",
    "    print(i, \"-\",j)\n",
    "\n",
    "\n",
    "controle = True\n",
    "lista_operacao = [1,2,3,4,5]\n",
    "\n",
    "while controle:\n",
    "\n",
    "    numero = lista_operacao.pop()\n",
    "    print(numero)\n",
    "\n",
    "    if len(lista_operacao) == 0:\n",
    "        controle = False\n",
    "\n",
    "idade = 41\n",
    "\n",
    "resultado = 'OK' if idade > 35 else \"NO\"\n",
    "\n",
    "resultado\n",
    "\n",
    "\n",
    "lista_baase = [1,2,3,4,5,6,7]\n",
    "\n",
    "lista_ternario = [i * 3 for i in lista_baase if i % 2 == 0]\n",
    "\n",
    "lista_ternario"
   ]
  }
 ],
 "metadata": {
  "kernelspec": {
   "display_name": "Python 3",
   "language": "python",
   "name": "python3"
  },
  "language_info": {
   "codemirror_mode": {
    "name": "ipython",
    "version": 3
   },
   "file_extension": ".py",
   "mimetype": "text/x-python",
   "name": "python",
   "nbconvert_exporter": "python",
   "pygments_lexer": "ipython3",
   "version": "3.12.2"
  }
 },
 "nbformat": 4,
 "nbformat_minor": 2
}
