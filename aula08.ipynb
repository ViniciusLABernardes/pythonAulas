{
 "cells": [
  {
   "cell_type": "markdown",
   "metadata": {},
   "source": [
    "# OI ELISE 1 exercicio"
   ]
  },
  {
   "cell_type": "code",
   "execution_count": 7,
   "metadata": {},
   "outputs": [
    {
     "name": "stdout",
     "output_type": "stream",
     "text": [
      "formato invalido\n",
      "Nota: 10\n"
     ]
    }
   ],
   "source": [
    "valor_valido = False\n",
    "\n",
    "while not valor_valido:\n",
    "\n",
    "    nota = input(\"digite uma nota: \")\n",
    "\n",
    "    if nota.replace(\"-\", '').isdigit():\n",
    "        nota = int(nota)\n",
    "\n",
    "        if nota >= 0 and nota <= 10:\n",
    "            print(f'Nota: {nota}')  \n",
    "            valor_valido = True\n",
    "        else:\n",
    "            print(\"valor incorreto\")  \n",
    "    else:\n",
    "        print(\"formato invalido\")\n",
    "\n",
    "        "
   ]
  },
  {
   "cell_type": "markdown",
   "metadata": {},
   "source": [
    "# 2 exercicio"
   ]
  },
  {
   "cell_type": "code",
   "execution_count": 17,
   "metadata": {},
   "outputs": [
    {
     "name": "stdout",
     "output_type": "stream",
     "text": [
      "0: 1\n",
      "1: 1\n",
      "2: 2\n",
      "3: 3\n",
      "4: 5\n",
      "5: 8\n",
      "6: 13\n",
      "7: 21\n",
      "8: 34\n",
      "9: 55\n"
     ]
    }
   ],
   "source": [
    "n = 10\n",
    "penultimo = 0\n",
    "ultimo = 1\n",
    "\n",
    "for i in range(n):\n",
    "    print(f\"{i}: {ultimo}\")\n",
    "\n",
    "    proximo = penultimo + ultimo\n",
    "\n",
    "    penultimo = ultimo\n",
    "    ultimo = proximo\n"
   ]
  },
  {
   "cell_type": "markdown",
   "metadata": {},
   "source": [
    "# 3 exercicio"
   ]
  },
  {
   "cell_type": "code",
   "execution_count": 19,
   "metadata": {},
   "outputs": [
    {
     "name": "stdout",
     "output_type": "stream",
     "text": [
      "senha n pode ser igual ao nome\n",
      "cadastrado com sucesso\n"
     ]
    }
   ],
   "source": [
    "credenciais_iguais = True\n",
    "\n",
    "while credenciais_iguais:\n",
    "\n",
    "    nome = input(\"digite o nome: \")\n",
    "    senha = input(\"digite a senha: \")\n",
    "    \n",
    "    if nome == senha:\n",
    "        print(\"senha n pode ser igual ao nome\")\n",
    "    else:\n",
    "        credenciais_iguais = False\n",
    "        print(\"cadastrado com sucesso\")"
   ]
  },
  {
   "cell_type": "markdown",
   "metadata": {},
   "source": [
    "# 4 exercicio"
   ]
  },
  {
   "cell_type": "code",
   "execution_count": 23,
   "metadata": {},
   "outputs": [
    {
     "name": "stdout",
     "output_type": "stream",
     "text": [
      "\n",
      "('vinicius', '21', '8000', 'm', 's')\n"
     ]
    }
   ],
   "source": [
    "valor_correto = False\n",
    "\n",
    "while not valor_correto:\n",
    "\n",
    "    nome = input(\"informe o nome: \")\n",
    "\n",
    "    if len(nome) < 3:\n",
    "        print(\"nome deve ter mais que 3 letras\\n\")\n",
    "    else:\n",
    "        valor_correto = True\n",
    "   \n",
    "\n",
    "valor_correto = False\n",
    "\n",
    "while not valor_correto:\n",
    "\n",
    "    idade = input(\"informae a idade\")\n",
    "\n",
    "    if idade.isdigit() and int(idade) > 0 and int(idade) <= 150:\n",
    "        valor_correto = True\n",
    "    else:\n",
    "        print(\"informe uma idade valida\")  \n",
    "\n",
    "\n",
    "valor_correto = False\n",
    "\n",
    "while not valor_correto:\n",
    "\n",
    "    salario = input(\"informae o salario\")\n",
    "\n",
    "    if salario.replace('-', '').isdigit() and int(salario) > 0:\n",
    "        valor_correto = True\n",
    "    else:\n",
    "        print(\"informe o salario correto!\")        \n",
    "\n",
    "\n",
    "\n",
    "valor_correto = False\n",
    "\n",
    "while not valor_correto:\n",
    "\n",
    "    sexo = input(\"informe o sexo com m para homem e f para mulher:\")\n",
    "\n",
    "    if sexo.lower() in ['m','f']:\n",
    "        valor_correto = True\n",
    "    else:\n",
    "        print(\"informe o sexo corretamente\")       \n",
    "\n",
    "\n",
    "valor_correto = False\n",
    "\n",
    "while not valor_correto:\n",
    "\n",
    "    estado_civil = input(\"informe o estado civil com s para solteiro, c para casado, v para viuvo, d para divorciado:\")\n",
    "\n",
    "    if estado_civil.lower() in ['c','v','d','s']:\n",
    "        valor_correto = True\n",
    "    else:\n",
    "        print(\"informe o estado civil corretamente\")       \n",
    "\n",
    "\n",
    "print(f\"\\n{nome, idade, salario, sexo, estado_civil}\")\n"
   ]
  },
  {
   "cell_type": "markdown",
   "metadata": {},
   "source": [
    "# Exercicio 5"
   ]
  },
  {
   "cell_type": "code",
   "execution_count": 27,
   "metadata": {},
   "outputs": [
    {
     "name": "stdout",
     "output_type": "stream",
     "text": [
      "63 anos\n"
     ]
    }
   ],
   "source": [
    "populacao_a = 80000\n",
    "populacao_b = 200000\n",
    "\n",
    "taxa_a = 1.03\n",
    "taxa_b = 1.015\n",
    "\n",
    "anos = 0\n",
    "\n",
    "while populacao_a < populacao_b:\n",
    "\n",
    "    populacao_a *= taxa_a\n",
    "    populacao_b *= taxa_b\n",
    "\n",
    "    anos += 1\n",
    "\n",
    "print(f\"{anos} anos\")"
   ]
  },
  {
   "cell_type": "markdown",
   "metadata": {},
   "source": [
    "# Exercicio 6"
   ]
  },
  {
   "cell_type": "code",
   "execution_count": 17,
   "metadata": {},
   "outputs": [
    {
     "name": "stdout",
     "output_type": "stream",
     "text": [
      "\n",
      "populacao a: 43000.0\n",
      "populacao a: 10020000.0\n",
      "1 anos\n",
      "populacao a: 73960.0\n",
      "populacao a: 10040040.0\n",
      "2 anos\n",
      "populacao a: 127211.2\n",
      "populacao a: 10060120.08\n",
      "3 anos\n",
      "populacao a: 218803.264\n",
      "populacao a: 10080240.32016\n",
      "4 anos\n",
      "populacao a: 376341.61407999997\n",
      "populacao a: 10100400.80080032\n",
      "5 anos\n",
      "populacao a: 647307.5762175999\n",
      "populacao a: 10120601.60240192\n",
      "6 anos\n",
      "populacao a: 1113369.031094272\n",
      "populacao a: 10140842.805606723\n",
      "7 anos\n",
      "populacao a: 1914994.7334821476\n",
      "populacao a: 10161124.491217935\n",
      "8 anos\n",
      "populacao a: 3293790.9415892935\n",
      "populacao a: 10181446.74020037\n",
      "9 anos\n",
      "populacao a: 5665320.419533585\n",
      "populacao a: 10201809.633680772\n",
      "10 anos\n",
      "populacao a: 9744351.121597767\n",
      "populacao a: 10222213.252948133\n",
      "11 anos\n",
      "populacao a: 16760283.929148158\n",
      "populacao a: 10242657.67945403\n",
      "12 anos\n",
      "12 anos\n"
     ]
    }
   ],
   "source": [
    "\n",
    "\n",
    "\n",
    "dados_corretos = False\n",
    "while not dados_corretos:\n",
    "    print()\n",
    "\n",
    "    populacao_a = input(\"numero população a: \")\n",
    "    populacao_b = input(\"numero população b: \")\n",
    "\n",
    "    taxa_a = input(\"taxa de crescimento da população A: \")\n",
    "    taxa_b = input(\"taxa de crescimento da população B: \")\n",
    "\n",
    "    populacao_a = int(populacao_a)\n",
    "    populacao_b = int(populacao_b)\n",
    "    taxa_b = float(taxa_b)\n",
    "    taxa_a = float(taxa_a)\n",
    "    \n",
    "\n",
    "    if populacao_a > 0:\n",
    "        dados_corretos = True\n",
    "    else:\n",
    "        populacao_a = input(\"insira corretamente o numero da população a: \")\n",
    "        populacao_a = int(populacao_a)\n",
    "\n",
    "    if populacao_b > 0:\n",
    "        dados_corretos = True\n",
    "    else:\n",
    "        populacao_b = input(\"insira corretamente o numero da população b: \")\n",
    "        populacao_b = int(populacao_b)\n",
    "\n",
    "    if taxa_a > 0:\n",
    "        dados_corretos = True\n",
    "    else:\n",
    "        taxa_a = input(\"insira corretamente o numero da taxa de crescimento da população a: \")\n",
    "        taxa_a = float(taxa_a)\n",
    "\n",
    "    if taxa_b > 0:\n",
    "        dados_corretos = True\n",
    "    else:\n",
    "        taxa_b = input(\"insira corretamente o numero da taxa de crescimento da população b: \")\n",
    "        taxa_b = float(taxa_b)\n",
    "\n",
    "    anos = 0\n",
    "\n",
    "    while populacao_a < populacao_b:\n",
    "\n",
    "        populacao_a = populacao_a * taxa_a\n",
    "        populacao_b *= taxa_b\n",
    "\n",
    "        anos += 1\n",
    "        print(f\"populacao a: {populacao_a}\")\n",
    "        print(f\"populacao a: {populacao_b}\")\n",
    "        print(f\"{anos} anos\")\n",
    "        \n",
    "    print(f\"{anos} anos\")"
   ]
  },
  {
   "cell_type": "markdown",
   "metadata": {},
   "source": [
    "# Elise ciumenta"
   ]
  },
  {
   "cell_type": "code",
   "execution_count": 39,
   "metadata": {},
   "outputs": [
    {
     "name": "stdout",
     "output_type": "stream",
     "text": [
      "Que bom, continue assim!\n"
     ]
    }
   ],
   "source": [
    "\n",
    "\n",
    "resp = input(\"Você conhece Vinícius Leandro de Araújo Bernardes?: \").lower()\n",
    "\n",
    "if resp in ['s', 'sim']:\n",
    "    print(\"Pois saiba que ele tem namorada >(\")\n",
    "else:\n",
    "    print(\"Que bom, continue assim!\")"
   ]
  },
  {
   "cell_type": "markdown",
   "metadata": {},
   "source": [
    "# Exercicio 7"
   ]
  },
  {
   "cell_type": "code",
   "execution_count": 16,
   "metadata": {},
   "outputs": [
    {
     "name": "stdout",
     "output_type": "stream",
     "text": [
      " 1 2 3 4 5 6 7 8 9 10 11 12 13 14 15 16 17 18 19 20"
     ]
    }
   ],
   "source": [
    "numeros = 0\n",
    "\n",
    "while numeros < 20:\n",
    "    numeros += 1\n",
    "    print(f\" {numeros}\",end=\"\")\n",
    "\n"
   ]
  },
  {
   "cell_type": "markdown",
   "metadata": {},
   "source": [
    "# Exercicio 8"
   ]
  },
  {
   "cell_type": "code",
   "execution_count": 32,
   "metadata": {},
   "outputs": [
    {
     "name": "stdout",
     "output_type": "stream",
     "text": [
      "4\n"
     ]
    }
   ],
   "source": [
    "# numeros = [5,10,15,2,200]\n",
    "    \n",
    "# print(max(numeros))\n",
    "\n",
    "numeros2 = []\n",
    "\n",
    "for numero in range(5):\n",
    "    numero = input(f'digite o {numero + 1} numero')\n",
    "    numero = int(numero)\n",
    "    numeros2.append(numero)\n",
    "\n",
    "    maior_numero = max(numeros2)\n",
    "\n",
    "\n",
    "print(maior_numero)"
   ]
  },
  {
   "cell_type": "markdown",
   "metadata": {},
   "source": [
    "# Exercicio 9"
   ]
  },
  {
   "cell_type": "code",
   "execution_count": 43,
   "metadata": {},
   "outputs": [
    {
     "name": "stdout",
     "output_type": "stream",
     "text": [
      "8.6\n"
     ]
    }
   ],
   "source": [
    "lista_numeros = []\n",
    "for numero in range(5):\n",
    "    numero = input(f\"digite o {numero + 1}° numero \")\n",
    "    numero = int(numero)\n",
    "    lista_numeros.append(numero)\n",
    "\n",
    "soma = sum(lista_numeros)\n",
    "media = soma / 5\n",
    "print(media)\n"
   ]
  }
 ],
 "metadata": {
  "kernelspec": {
   "display_name": "Python 3 (ipykernel)",
   "language": "python",
   "name": "python3"
  },
  "language_info": {
   "codemirror_mode": {
    "name": "ipython",
    "version": 3
   },
   "file_extension": ".py",
   "mimetype": "text/x-python",
   "name": "python",
   "nbconvert_exporter": "python",
   "pygments_lexer": "ipython3",
   "version": "3.12.2"
  }
 },
 "nbformat": 4,
 "nbformat_minor": 2
}
