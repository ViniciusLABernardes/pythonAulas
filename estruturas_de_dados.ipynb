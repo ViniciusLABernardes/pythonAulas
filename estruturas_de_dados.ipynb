{
 "cells": [
  {
   "cell_type": "markdown",
   "id": "f8374ac2",
   "metadata": {},
   "source": [
    "# Estrutura de dados\n",
    "\n",
    "- listas\n",
    "- tuplas\n",
    "- conjuntos\n",
    "- dicionários"
   ]
  },
  {
   "cell_type": "code",
   "execution_count": 1,
   "id": "f3e38d39",
   "metadata": {},
   "outputs": [
    {
     "data": {
      "text/plain": [
       "True"
      ]
     },
     "execution_count": 1,
     "metadata": {},
     "output_type": "execute_result"
    }
   ],
   "source": [
    "\"v\" in \"vagner\""
   ]
  },
  {
   "cell_type": "code",
   "execution_count": 5,
   "id": "499fc450",
   "metadata": {},
   "outputs": [],
   "source": [
    "lista = [1,2,3,4]"
   ]
  },
  {
   "cell_type": "code",
   "execution_count": 7,
   "id": "7cbae763",
   "metadata": {},
   "outputs": [
    {
     "data": {
      "text/plain": [
       "list"
      ]
     },
     "execution_count": 7,
     "metadata": {},
     "output_type": "execute_result"
    }
   ],
   "source": [
    "type(lista)"
   ]
  },
  {
   "cell_type": "code",
   "execution_count": 8,
   "id": "d09696b8",
   "metadata": {},
   "outputs": [],
   "source": [
    "lista_2 = [1,'a',3.14]"
   ]
  },
  {
   "cell_type": "code",
   "execution_count": 9,
   "id": "0e131358",
   "metadata": {},
   "outputs": [
    {
     "data": {
      "text/plain": [
       "3.14"
      ]
     },
     "execution_count": 9,
     "metadata": {},
     "output_type": "execute_result"
    }
   ],
   "source": [
    "lista_2[-1]"
   ]
  },
  {
   "cell_type": "code",
   "execution_count": 10,
   "id": "52e18d8e",
   "metadata": {},
   "outputs": [],
   "source": [
    "lista_2.append(True)"
   ]
  },
  {
   "cell_type": "code",
   "execution_count": 11,
   "id": "da2b17fd",
   "metadata": {},
   "outputs": [
    {
     "data": {
      "text/plain": [
       "[1, 'a', 3.14, True]"
      ]
     },
     "execution_count": 11,
     "metadata": {},
     "output_type": "execute_result"
    }
   ],
   "source": [
    "lista_2"
   ]
  },
  {
   "cell_type": "code",
   "execution_count": 12,
   "id": "a9149789",
   "metadata": {},
   "outputs": [
    {
     "data": {
      "text/plain": [
       "True"
      ]
     },
     "execution_count": 12,
     "metadata": {},
     "output_type": "execute_result"
    }
   ],
   "source": [
    "lista_2.pop()"
   ]
  },
  {
   "cell_type": "code",
   "execution_count": 13,
   "id": "b9625f2b",
   "metadata": {},
   "outputs": [
    {
     "data": {
      "text/plain": [
       "[1, 'a', 3.14]"
      ]
     },
     "execution_count": 13,
     "metadata": {},
     "output_type": "execute_result"
    }
   ],
   "source": [
    "lista_2\n"
   ]
  },
  {
   "cell_type": "code",
   "execution_count": 14,
   "id": "d00c3a27",
   "metadata": {},
   "outputs": [
    {
     "data": {
      "text/plain": [
       "1"
      ]
     },
     "execution_count": 14,
     "metadata": {},
     "output_type": "execute_result"
    }
   ],
   "source": [
    "lista_2.pop(0)"
   ]
  },
  {
   "cell_type": "code",
   "execution_count": 15,
   "id": "5c1f6ae6",
   "metadata": {},
   "outputs": [
    {
     "data": {
      "text/plain": [
       "['a', 3.14]"
      ]
     },
     "execution_count": 15,
     "metadata": {},
     "output_type": "execute_result"
    }
   ],
   "source": [
    "lista_2\n"
   ]
  },
  {
   "cell_type": "code",
   "execution_count": 16,
   "id": "4838b343",
   "metadata": {},
   "outputs": [
    {
     "data": {
      "text/plain": [
       "(['a', 3.14], 2)"
      ]
     },
     "execution_count": 16,
     "metadata": {},
     "output_type": "execute_result"
    }
   ],
   "source": [
    "lista_2, len(lista_2)"
   ]
  },
  {
   "cell_type": "code",
   "execution_count": 25,
   "id": "640160a0",
   "metadata": {},
   "outputs": [
    {
     "name": "stdout",
     "output_type": "stream",
     "text": [
      "vazio\n"
     ]
    }
   ],
   "source": [
    "if[]:\n",
    "    print(\"conteudo\")\n",
    "else:\n",
    "    print(\"vazio\")"
   ]
  },
  {
   "cell_type": "code",
   "execution_count": null,
   "id": "8302f870",
   "metadata": {},
   "outputs": [],
   "source": [
    "tupla = (1,2,3.14,\"a\")\n"
   ]
  },
  {
   "cell_type": "code",
   "execution_count": 30,
   "id": "ec07be8c",
   "metadata": {},
   "outputs": [],
   "source": [
    "copo_1 = 'cafe'\n",
    "copo_2 = 'agua'"
   ]
  },
  {
   "cell_type": "code",
   "execution_count": 31,
   "id": "759cbf34",
   "metadata": {},
   "outputs": [],
   "source": [
    "copo_1, copo_2 = copo_2, copo_1"
   ]
  },
  {
   "cell_type": "code",
   "execution_count": 32,
   "id": "c9461d67",
   "metadata": {},
   "outputs": [
    {
     "data": {
      "text/plain": [
       "('agua', 'cafe')"
      ]
     },
     "execution_count": 32,
     "metadata": {},
     "output_type": "execute_result"
    }
   ],
   "source": [
    "copo_1, copo_2"
   ]
  },
  {
   "cell_type": "code",
   "execution_count": 33,
   "id": "c69ceaaf",
   "metadata": {},
   "outputs": [],
   "source": [
    "conjunto = {1,4,100,8,2,8,3,1} #sets, elimina duplicidades e coloca em ordem"
   ]
  },
  {
   "cell_type": "code",
   "execution_count": 34,
   "id": "a7d990bf",
   "metadata": {},
   "outputs": [
    {
     "data": {
      "text/plain": [
       "{1, 2, 3, 4, 8, 100}"
      ]
     },
     "execution_count": 34,
     "metadata": {},
     "output_type": "execute_result"
    }
   ],
   "source": [
    "conjunto"
   ]
  },
  {
   "cell_type": "code",
   "execution_count": 35,
   "id": "f692f1c5",
   "metadata": {},
   "outputs": [
    {
     "data": {
      "text/plain": [
       "set"
      ]
     },
     "execution_count": 35,
     "metadata": {},
     "output_type": "execute_result"
    }
   ],
   "source": [
    "type(conjunto)"
   ]
  },
  {
   "cell_type": "code",
   "execution_count": 37,
   "id": "f8afe1e0",
   "metadata": {},
   "outputs": [
    {
     "data": {
      "text/plain": [
       "{2, 4}"
      ]
     },
     "execution_count": 37,
     "metadata": {},
     "output_type": "execute_result"
    }
   ],
   "source": [
    "conjunto_2 = {6,5,4,2,3000,555}\n",
    "\n",
    "conjunto.intersection(conjunto_2)"
   ]
  },
  {
   "cell_type": "code",
   "execution_count": 39,
   "id": "3d26d35f",
   "metadata": {},
   "outputs": [
    {
     "data": {
      "text/plain": [
       "{5, 6, 555, 3000}"
      ]
     },
     "execution_count": 39,
     "metadata": {},
     "output_type": "execute_result"
    }
   ],
   "source": [
    "conjunto_2.difference(conjunto)"
   ]
  },
  {
   "cell_type": "code",
   "execution_count": 44,
   "id": "b799eed5",
   "metadata": {},
   "outputs": [],
   "source": [
    "dicionario = {'a': 100, 'b':50,'c':20}"
   ]
  },
  {
   "cell_type": "code",
   "execution_count": 46,
   "id": "ebb05977",
   "metadata": {},
   "outputs": [
    {
     "data": {
      "text/plain": [
       "100"
      ]
     },
     "execution_count": 46,
     "metadata": {},
     "output_type": "execute_result"
    }
   ],
   "source": [
    "dicionario['a']"
   ]
  },
  {
   "cell_type": "code",
   "execution_count": 47,
   "id": "acedf335",
   "metadata": {},
   "outputs": [
    {
     "data": {
      "text/plain": [
       "dict"
      ]
     },
     "execution_count": 47,
     "metadata": {},
     "output_type": "execute_result"
    }
   ],
   "source": [
    "type(dicionario)"
   ]
  },
  {
   "cell_type": "code",
   "execution_count": 48,
   "id": "7e894bfb",
   "metadata": {},
   "outputs": [
    {
     "data": {
      "text/plain": [
       "dict_items([('a', 100), ('b', 50), ('c', 20)])"
      ]
     },
     "execution_count": 48,
     "metadata": {},
     "output_type": "execute_result"
    }
   ],
   "source": [
    "dicionario.items()"
   ]
  },
  {
   "cell_type": "code",
   "execution_count": 49,
   "id": "2846f907",
   "metadata": {},
   "outputs": [
    {
     "data": {
      "text/plain": [
       "dict_keys(['a', 'b', 'c'])"
      ]
     },
     "execution_count": 49,
     "metadata": {},
     "output_type": "execute_result"
    }
   ],
   "source": [
    "dicionario.keys()"
   ]
  },
  {
   "cell_type": "code",
   "execution_count": 50,
   "id": "f1e0f424",
   "metadata": {},
   "outputs": [
    {
     "data": {
      "text/plain": [
       "dict_values([100, 50, 20])"
      ]
     },
     "execution_count": 50,
     "metadata": {},
     "output_type": "execute_result"
    }
   ],
   "source": [
    "dicionario.values()"
   ]
  },
  {
   "cell_type": "code",
   "execution_count": 51,
   "id": "2eb39bc9",
   "metadata": {},
   "outputs": [],
   "source": [
    "dicionario['d'] = 500"
   ]
  },
  {
   "cell_type": "code",
   "execution_count": 53,
   "id": "c9f69659",
   "metadata": {},
   "outputs": [
    {
     "name": "stdout",
     "output_type": "stream",
     "text": [
      "ok\n"
     ]
    }
   ],
   "source": [
    "if 'a' in dicionario:\n",
    "    print('ok')"
   ]
  },
  {
   "cell_type": "code",
   "execution_count": 61,
   "id": "063868f0",
   "metadata": {},
   "outputs": [
    {
     "data": {
      "text/plain": [
       "0"
      ]
     },
     "execution_count": 61,
     "metadata": {},
     "output_type": "execute_result"
    }
   ],
   "source": [
    "dicionario.get('z',0) "
   ]
  },
  {
   "cell_type": "code",
   "execution_count": 60,
   "id": "9b3d508b",
   "metadata": {},
   "outputs": [
    {
     "data": {
      "text/plain": [
       "100"
      ]
     },
     "execution_count": 60,
     "metadata": {},
     "output_type": "execute_result"
    }
   ],
   "source": [
    "dicionario.get('a',0) "
   ]
  },
  {
   "cell_type": "code",
   "execution_count": 64,
   "id": "453f503c",
   "metadata": {},
   "outputs": [],
   "source": [
    "base_1 = {\n",
    "    'nome' : ['joao', 'jose', 'maria'],\n",
    "    'idade': [30,23,35],\n",
    "    'estado_civil': ['casado','solteiro','solteira']\n",
    "}"
   ]
  },
  {
   "cell_type": "code",
   "execution_count": 65,
   "id": "a20c3560",
   "metadata": {},
   "outputs": [],
   "source": [
    "base_2 = [\n",
    "    {'nome':'joao','idade':30,'estado_civil':'casado'},\n",
    "    {'nome':'jose','idade':23,'estado_civil':'solteiro'},\n",
    "    {'nome':'maria','idade':25,'estado_civil':'solteira'},\n",
    "]"
   ]
  },
  {
   "cell_type": "code",
   "execution_count": 78,
   "id": "a9a56e7c",
   "metadata": {},
   "outputs": [
    {
     "data": {
      "text/plain": [
       "'m'"
      ]
     },
     "execution_count": 78,
     "metadata": {},
     "output_type": "execute_result"
    }
   ],
   "source": [
    "base_1['nome'][2]"
   ]
  },
  {
   "cell_type": "code",
   "execution_count": 80,
   "id": "674283e5",
   "metadata": {},
   "outputs": [
    {
     "data": {
      "text/plain": [
       "23"
      ]
     },
     "execution_count": 80,
     "metadata": {},
     "output_type": "execute_result"
    }
   ],
   "source": [
    "base_2[1]['idade']"
   ]
  },
  {
   "cell_type": "code",
   "execution_count": 87,
   "id": "b3278668",
   "metadata": {},
   "outputs": [
    {
     "data": {
      "text/plain": [
       "'CASADO'"
      ]
     },
     "execution_count": 87,
     "metadata": {},
     "output_type": "execute_result"
    }
   ],
   "source": [
    "base_2[0]['estado_civil'].upper()"
   ]
  },
  {
   "cell_type": "code",
   "execution_count": 84,
   "id": "c037e962",
   "metadata": {},
   "outputs": [],
   "source": [
    "matriz = [\n",
    "    [1,2,3],\n",
    "    [4,5,6],\n",
    "    [7,8,9]\n",
    "]"
   ]
  },
  {
   "cell_type": "code",
   "execution_count": 85,
   "id": "7ec24dab",
   "metadata": {},
   "outputs": [
    {
     "data": {
      "text/plain": [
       "5"
      ]
     },
     "execution_count": 85,
     "metadata": {},
     "output_type": "execute_result"
    }
   ],
   "source": [
    "matriz[1][1]"
   ]
  },
  {
   "cell_type": "code",
   "execution_count": null,
   "id": "d60bb1b0",
   "metadata": {},
   "outputs": [],
   "source": []
  }
 ],
 "metadata": {
  "kernelspec": {
   "display_name": "Python 3 (ipykernel)",
   "language": "python",
   "name": "python3"
  },
  "language_info": {
   "codemirror_mode": {
    "name": "ipython",
    "version": 3
   },
   "file_extension": ".py",
   "mimetype": "text/x-python",
   "name": "python",
   "nbconvert_exporter": "python",
   "pygments_lexer": "ipython3",
   "version": "3.11.4"
  }
 },
 "nbformat": 4,
 "nbformat_minor": 5
}
