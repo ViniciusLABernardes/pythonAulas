{
 "cells": [
  {
   "cell_type": "code",
   "execution_count": 4,
   "metadata": {},
   "outputs": [
    {
     "name": "stdout",
     "output_type": "stream",
     "text": [
      "mensagem padrao\n",
      "nome: gerson\n",
      "ola gerson \n",
      "vc tem 60 anos\n",
      "nome: wqwqwq\n"
     ]
    }
   ],
   "source": [
    "def mensagem_padrao():\n",
    "    print(\"mensagem padrao\")\n",
    "\n",
    "\n",
    "mensagem_padrao()\n",
    "\n",
    "def mensagem_customizada(nome):\n",
    "    print(f'nome: {nome}')\n",
    "\n",
    "mensagem_customizada(\"gerson\")    \n",
    "\n",
    "\n",
    "def mensagem_customizada2(nome, idade):\n",
    "    print(f'ola {nome} \\nvc tem {idade} anos')\n",
    "\n",
    "mensagem_customizada2(\"gerson\", 60)    \n",
    "\n",
    "nome_input = input(\"nome: \")\n",
    "\n",
    "mensagem_customizada(nome_input)"
   ]
  },
  {
   "cell_type": "code",
   "execution_count": 6,
   "metadata": {},
   "outputs": [
    {
     "name": "stdout",
     "output_type": "stream",
     "text": [
      ":3...20000... 30 \n"
     ]
    }
   ],
   "source": [
    "def parametro_default(param_1 =3, param_2 = 40, param_3 = 30):\n",
    "    print(f':{param_1}...{param_2}... {param_3} ')\n",
    "\n",
    "parametro_default(param_2=20000)"
   ]
  },
  {
   "cell_type": "code",
   "execution_count": 7,
   "metadata": {},
   "outputs": [
    {
     "data": {
      "text/plain": [
       "9765625"
      ]
     },
     "execution_count": 7,
     "metadata": {},
     "output_type": "execute_result"
    }
   ],
   "source": [
    "def calcular(n1, n2):\n",
    "\n",
    "    return n1 ** n2\n",
    "\n",
    "calcular(5,10)"
   ]
  },
  {
   "cell_type": "code",
   "execution_count": 13,
   "metadata": {},
   "outputs": [
    {
     "data": {
      "text/plain": [
       "(3, 1)"
      ]
     },
     "execution_count": 13,
     "metadata": {},
     "output_type": "execute_result"
    }
   ],
   "source": [
    "def divisao_inteira(dividendo, divisor):\n",
    "\n",
    "    valor = dividendo // divisor\n",
    "    resto = dividendo % divisor\n",
    "\n",
    "    return valor, resto\n",
    "\n",
    "divisao_inteira(10, 3)\n",
    "\n",
    "\n"
   ]
  },
  {
   "cell_type": "code",
   "execution_count": 19,
   "metadata": {},
   "outputs": [
    {
     "data": {
      "text/plain": [
       "26"
      ]
     },
     "execution_count": 19,
     "metadata": {},
     "output_type": "execute_result"
    }
   ],
   "source": [
    "def soma(multiplicador=1, *args):\n",
    "    numero = 0\n",
    "\n",
    "    for indice in args:\n",
    "        numero += indice\n",
    "\n",
    "    return numero * multiplicador\n",
    "\n",
    "soma(2,2,5,6)"
   ]
  },
  {
   "cell_type": "code",
   "execution_count": 20,
   "metadata": {},
   "outputs": [
    {
     "name": "stdout",
     "output_type": "stream",
     "text": [
      "atributo: nome, valor: joao\n",
      "atributo: altura, valor: 1.9\n",
      "atributo: sexo, valor: masculino\n",
      "atributo: idade, valor: 20\n"
     ]
    }
   ],
   "source": [
    "def cadastro (**kwargs):\n",
    "    for k, v in kwargs.items():\n",
    "        print(f'atributo: {k}, valor: {v}')\n",
    "\n",
    "cadastro(nome='joao', altura=1.9, sexo='masculino', idade=20)"
   ]
  },
  {
   "cell_type": "code",
   "execution_count": null,
   "metadata": {},
   "outputs": [],
   "source": [
    "def funcao_principal(projeto, pi=3.14, *args, **kwargs):\n",
    "    print(f'Nome do projeto: {projeto}')\n",
    "    print(f'Valor de PI> {pi}')\n",
    "\n",
    "    for i in args:\n",
    "        print(i)\n",
    "\n",
    "    for k,v "
   ]
  }
 ],
 "metadata": {
  "kernelspec": {
   "display_name": "Python 3",
   "language": "python",
   "name": "python3"
  },
  "language_info": {
   "codemirror_mode": {
    "name": "ipython",
    "version": 3
   },
   "file_extension": ".py",
   "mimetype": "text/x-python",
   "name": "python",
   "nbconvert_exporter": "python",
   "pygments_lexer": "ipython3",
   "version": "3.11.4"
  },
  "orig_nbformat": 4
 },
 "nbformat": 4,
 "nbformat_minor": 2
}
