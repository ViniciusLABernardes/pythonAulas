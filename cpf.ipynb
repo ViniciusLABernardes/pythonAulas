{
 "cells": [
  {
   "cell_type": "code",
   "execution_count": 9,
   "metadata": {},
   "outputs": [
    {
     "ename": "ValueError",
     "evalue": "too many values to unpack (expected 2)",
     "output_type": "error",
     "traceback": [
      "\u001b[1;31m---------------------------------------------------------------------------\u001b[0m",
      "\u001b[1;31mValueError\u001b[0m                                Traceback (most recent call last)",
      "Cell \u001b[1;32mIn[9], line 4\u001b[0m\n\u001b[0;32m      1\u001b[0m cpf \u001b[39m=\u001b[39m [\u001b[39m1\u001b[39m,\u001b[39m6\u001b[39m,\u001b[39m2\u001b[39m,\u001b[39m4\u001b[39m,\u001b[39m9\u001b[39m,\u001b[39m5\u001b[39m,\u001b[39m6\u001b[39m,\u001b[39m5\u001b[39m,\u001b[39m8\u001b[39m,\u001b[39m0\u001b[39m,\u001b[39m9\u001b[39m]\n\u001b[0;32m      2\u001b[0m verificador \u001b[39m=\u001b[39m [\u001b[39m10\u001b[39m,\u001b[39m9\u001b[39m,\u001b[39m8\u001b[39m,\u001b[39m7\u001b[39m,\u001b[39m6\u001b[39m,\u001b[39m5\u001b[39m,\u001b[39m4\u001b[39m,\u001b[39m3\u001b[39m,\u001b[39m2\u001b[39m,\u001b[39m1\u001b[39m]\n\u001b[1;32m----> 4\u001b[0m \u001b[39mfor\u001b[39;00m i, j \u001b[39min\u001b[39;00m(cpf, verificador):\n\u001b[0;32m      5\u001b[0m     numeros_mutiplicados \u001b[39m=\u001b[39m i \u001b[39m*\u001b[39m j\n\u001b[0;32m      7\u001b[0m soma \u001b[39m=\u001b[39m numeros_mutiplicados\n",
      "\u001b[1;31mValueError\u001b[0m: too many values to unpack (expected 2)"
     ]
    }
   ],
   "source": [
    "cpf = [1,6,2,4,9,5,6,5,8,0,9]\n",
    "verificador = [10,9,8,7,6,5,4,3,2,1]\n",
    "\n",
    "for i, j in(cpf, verificador):\n",
    "    numeros_mutiplicados = i * j\n",
    "    \n",
    "soma = numeros_mutiplicados\n",
    "numero_divisor = 11\n",
    "if (soma % numero_divisor == 0 or 1):\n",
    "    print(\"cpf invalido\")\n",
    "else:\n",
    "    resto_divisao = soma % numero_divisor\n",
    "\n",
    "    while len(cpf) < 9:\n",
    "        print(cpf)\n",
    "    else:\n",
    "        cpf.pop(9)\n",
    "        cpf.append(resto_divisao)\n",
    "        print(f'cpf valido: {cpf} e o resto da divisao foi: {resto_divisao}')\n",
    "else len(cpf > 9):\n",
    "        cpf.pop(10)\n",
    "        cpf.append(resto_divisao)"
   ]
  },
  {
   "cell_type": "code",
   "execution_count": 20,
   "metadata": {},
   "outputs": [
    {
     "name": "stdout",
     "output_type": "stream",
     "text": [
      "[1, 6, 2, 4, 9, 5, 6, 5, 8, 0, 9]\n"
     ]
    }
   ],
   "source": [
    " \n",
    "def define_digito(soma):\n",
    "    resto_divisao = soma % 11\n",
    "    if resto_divisao == 0 or resto_divisao == 1:\n",
    "        return 0\n",
    "    else:\n",
    "        digito = 11 - resto_divisao\n",
    "        return digito\n",
    "\n",
    "def calcula_cpf(cpf_sem_digitos, fator_cpf):\n",
    "    soma = 0\n",
    "    for digito, multiplicador in zip(cpf_sem_digitos, fator_cpf):\n",
    "        soma += digito * multiplicador\n",
    "\n",
    "    digito = define_digito(soma)\n",
    "    cpf_com_digitos.append(digito)\n",
    "\n",
    "    soma = 0\n",
    "    for digito, multiplicador in zip(cpf_com_digitos[1:], fator_cpf):\n",
    "        soma += digito * multiplicador\n",
    "\n",
    "    digito = define_digito(soma)\n",
    "    cpf_com_digitos.append(digito)\n",
    "\n",
    "    return cpf_com_digitos\n",
    "\n",
    "cpf_sem_digitos = [1, 6, 2, 4, 9, 5, 6, 5, 8]\n",
    "fator_cpf = [10, 9, 8, 7, 6, 5, 4, 3, 2]\n",
    "cpf_com_digitos = cpf_sem_digitos\n",
    "\n",
    "\n",
    "\n",
    "print(calcula_cpf(cpf_sem_digitos, fator_cpf))\n",
    "    "
   ]
  },
  {
   "cell_type": "code",
   "execution_count": null,
   "metadata": {},
   "outputs": [],
   "source": []
  }
 ],
 "metadata": {
  "kernelspec": {
   "display_name": "Python 3",
   "language": "python",
   "name": "python3"
  },
  "language_info": {
   "codemirror_mode": {
    "name": "ipython",
    "version": 3
   },
   "file_extension": ".py",
   "mimetype": "text/x-python",
   "name": "python",
   "nbconvert_exporter": "python",
   "pygments_lexer": "ipython3",
   "version": "3.11.4"
  },
  "orig_nbformat": 4
 },
 "nbformat": 4,
 "nbformat_minor": 2
}
