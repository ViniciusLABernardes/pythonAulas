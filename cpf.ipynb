{
 "cells": [
  {
   "cell_type": "code",
   "execution_count": 36,
   "id": "b178812e-efdc-4d13-8149-787ca2b6d08e",
   "metadata": {},
   "outputs": [],
   "source": [
    "import random"
   ]
  },
  {
   "cell_type": "code",
   "execution_count": 37,
   "id": "78b589b2-52a3-48bd-bc05-1b4d4efb1ccd",
   "metadata": {},
   "outputs": [],
   "source": [
    "def validar_cpf(cpf): #cpf = '35249903045'\n",
    "\n",
    "    cpf_base = cpf[:9]\n",
    "    dv = cpf[-2:]\n",
    "\n",
    "    soma_dv1 = int(cpf_base[0]) * 10 + int(cpf_base[1]) * 9 + int(cpf_base[2]) * 8 + int(cpf_base[3]) * 7 + int(cpf_base[4]) * 6 + int(cpf_base[5]) * 5 + int(cpf_base[6]) * 4 + int(cpf_base[7]) * 3 + int(cpf_base[8]) * 2\n",
    "    resto_dv1 = soma_dv1 % 11\n",
    "    dv1 = 0 if resto_dv1 in [0, 1] else 11 - resto_dv1\n",
    "    cpf_base += str(dv1)\n",
    "\n",
    "    soma_dv2 = int(cpf_base[1]) * 10 + int(cpf_base[2]) * 9 + int(cpf_base[3]) * 8 + int(cpf_base[4]) * 7 + int(cpf_base[5]) * 6 + int(cpf_base[6]) * 5 + int(cpf_base[7]) * 4 + int(cpf_base[8]) * 3 + int(cpf_base[9]) * 2\n",
    "    resto_dv2 = soma_dv2 % 11\n",
    "    dv2 = 0 if resto_dv2 in [0, 1] else 11 - resto_dv2\n",
    "    cpf_base += str(dv2)\n",
    "\n",
    "    return cpf == cpf_base"
   ]
  },
  {
   "cell_type": "code",
   "execution_count": 38,
   "id": "a512578d-82ca-4425-913d-38e094a7b02d",
   "metadata": {},
   "outputs": [
    {
     "data": {
      "text/plain": [
       "True"
      ]
     },
     "execution_count": 38,
     "metadata": {},
     "output_type": "execute_result"
    }
   ],
   "source": [
    "validar_cpf('16249565809')"
   ]
  },
  {
   "cell_type": "code",
   "execution_count": 41,
   "id": "56205513-bd07-4873-b970-eed60dc9c2b9",
   "metadata": {},
   "outputs": [],
   "source": [
    "def calcular_digito(cpf_base):\n",
    "\n",
    "    soma_dv = int(cpf_base[0]) * 10 + int(cpf_base[1]) * 9 + int(cpf_base[2]) * 8 + int(cpf_base[3]) * 7 + int(cpf_base[4]) * 6 + int(cpf_base[5]) * 5 + int(cpf_base[6]) * 4 + int(cpf_base[7]) * 3 + int(cpf_base[8]) * 2\n",
    "    resto_dv = soma_dv % 11\n",
    "    dv = 0 if resto_dv in [0, 1] else 11 - resto_dv\n",
    "    \n",
    "    return str(dv)\n",
    "\n",
    "def calcular_digito_v2(cpf_base):\n",
    "\n",
    "    soma_dv = 0\n",
    "    multiplicador = [10, 9, 8, 7, 6, 5, 4, 3, 2] # range(10, 1, -1)\n",
    "                     \n",
    "    for i, j in zip(cpf_base, multiplicador): # range(10, 1, -1)\n",
    "        soma_dv += int(i) * j\n",
    "     \n",
    "    resto_dv = soma_dv % 11\n",
    "    dv = 0 if resto_dv in [0, 1] else 11 - resto_dv\n",
    "    \n",
    "    return str(dv)\n",
    "\n",
    "def calcular_digito_v3(cpf_base): #def é utilizado para criar funcoes, neste exemplo ele cria uma função calculadora dos ultimos digitos do cpf que recebe o valor(cpf_base)\n",
    "\n",
    "    soma_dv = 0 #criado uma variavel int chamada soma_divisor que ira armazenar a soma dos numeros do cpf\n",
    "                     \n",
    "    for i, j in zip(cpf_base, range(10, 1, -1)): #para item1, item2 dentro da lista cpf e range(10, 1, -1) que pega a distancia do numero 10 ate o 1 subtraindo de 1 em 1, o zip é a função usada para pegar duas listas\n",
    "        soma_dv += int(i) * j #soma_divisor é igual a soma_divisor + item1 convertido em inteiro * o item2\n",
    "     \n",
    "    resto_dv = soma_dv % 11 #resto_divisor pega o valor de soma_divisor divido por 11\n",
    "    dv = 0 if resto_dv in [0, 1] else 11 - resto_dv #divisor igual a zero caso resto_divisor esteja dentro de [0 ou 1] caso contrario, 11 - resto_divisor\n",
    "\n",
    "    return str(dv) #retorna usando funcao para converter em string o divisor\n",
    "\n",
    "def validar_cpf_v2(cpf): #cpf = '35249903045'\n",
    "\n",
    "    cpf_base = cpf[:9]\n",
    "    dv = cpf[-2:]\n",
    "\n",
    "    dv1 = calcular_digito_v2(cpf_base)\n",
    "    cpf_base += dv1\n",
    "\n",
    "    dv2 = calcular_digito_v2(cpf_base[1:])\n",
    "    cpf_base += dv2\n",
    "\n",
    "    return cpf == cpf_base"
   ]
  },
  {
   "cell_type": "code",
   "execution_count": 42,
   "id": "fb49bb10-b97c-4a7f-b9ef-04a801e03cdd",
   "metadata": {},
   "outputs": [
    {
     "data": {
      "text/plain": [
       "True"
      ]
     },
     "execution_count": 42,
     "metadata": {},
     "output_type": "execute_result"
    }
   ],
   "source": [
    "validar_cpf_v2('57397203205')"
   ]
  },
  {
   "cell_type": "code",
   "execution_count": 43,
   "id": "d61bd44b-c4f2-4d75-a657-d79ad9eebfab",
   "metadata": {},
   "outputs": [],
   "source": [
    "\n",
    "def gerar_cpf(uf=None): \n",
    "    #funcao gerarcpf recebe a chave uf que por enquanto colocamos como nenhum valor\n",
    "\n",
    "    cpf_base = '' \n",
    "    #variavel que sera usada para guardar o cpf, por enquanto ele é apenas uma string vazia\n",
    "\n",
    "    cadastro_uf = {  \n",
    "        #dicionario criado chamado cadastro uf contendo as chaves que foram colocadas as siglas dos estados do brasil, e os valores dessas chaves são o numero que as correspondem\n",
    "        'DF' : '1',\n",
    "        'AC' : '2',\n",
    "        'CE' : '3',\n",
    "        'AL' : '4',\n",
    "        'BA' : '5',\n",
    "        'MG' : '6',\n",
    "        'ES' : '7',\n",
    "        'SP' : '8',\n",
    "        'PR' : '9',\n",
    "        'RS' : '0'\n",
    "    }\n",
    "\n",
    "    digitos = 8 if uf else 9 \n",
    "    #criamos a variavel digito que é igual a 8 se existir um uf, caso contrario serão 9 digitos\n",
    "    \n",
    "    for i in range(digitos): \n",
    "        \n",
    "        cpf_base += str(random.randint(0, 9)) \n",
    "       \n",
    "\n",
    "    if uf: \n",
    "        #caso na função o usuario coloque um uf\n",
    "        cpf_base += cadastro_uf[uf.upper()] \n",
    "        #cpf_base é igual ele mais o dicionario cadastro_uf que contera dentro de uma lista a variavel uf utilizando uma funcao que deixa maiusculo chamada .upper()\n",
    "        \n",
    "    dv1 = calcular_digito_v3(cpf_base) \n",
    "    #divisor1 é igual a função calcular_digito_v3 contento o valor de cpf_base\n",
    "    cpf_base += dv1\n",
    "     #cpf_base é igual a ele mais o divisor1\n",
    "\n",
    "    dv2 = calcular_digito_v3(cpf_base[1:]) \n",
    "    #divisor2 é igual a função calcular_digito_v3 contento o valor de cpf_base a partir do segundo numero[1:]                   \n",
    "    cpf_base += dv2  \n",
    "    #cpf_base é igual a ele mais o divisor2\n",
    "\n",
    "    return cpf_base \n",
    "#retorna o cpf_base"
   ]
  },
  {
   "cell_type": "code",
   "execution_count": 71,
   "id": "5534fd1d-135c-4701-8ae6-791351ea9c04",
   "metadata": {},
   "outputs": [
    {
     "data": {
      "text/plain": [
       "(True, '59088703906')"
      ]
     },
     "execution_count": 71,
     "metadata": {},
     "output_type": "execute_result"
    }
   ],
   "source": [
    "cpf = gerar_cpf() \n",
    "#criamos uma variavel cpf que tem o valor da funcao gerar_cpf(contendo o uf de sp)\n",
    "validar_cpf_v2(cpf), cpf \n",
    "#aqui chamamos a funcao validar_cpf_v2 contendo o cpf para verificar se ele e valido ou nao, e tambem chamamos o proprio cpf"
   ]
  },
  {
   "cell_type": "code",
   "execution_count": 19,
   "id": "71a4a26f-2da3-4d95-8a92-45193c023393",
   "metadata": {},
   "outputs": [
    {
     "name": "stdout",
     "output_type": "stream",
     "text": [
      "a 1\n",
      "b 2\n",
      "c 3\n",
      "d 4\n",
      "e 5\n"
     ]
    }
   ],
   "source": [
    "lista_a = ['a', 'b', 'c', 'd', 'e']\n",
    "lista_b = [1, 2, 3, 4, 5]\n",
    "\n",
    "for a, b in zip(lista_a, lista_b):\n",
    "\n",
    "    print(a, b)"
   ]
  },
  {
   "cell_type": "code",
   "execution_count": 237,
   "id": "9c9f398a-76bb-4b83-8ef7-3c4a3725ff01",
   "metadata": {},
   "outputs": [
    {
     "data": {
      "text/plain": [
       "[('a', 1), ('b', 2), ('c', 3), ('d', 4), ('e', 5)]"
      ]
     },
     "execution_count": 237,
     "metadata": {},
     "output_type": "execute_result"
    }
   ],
   "source": [
    "list(zip(lista_a, lista_b)) # retorno da função zip para o FOR"
   ]
  }
 ],
 "metadata": {
  "kernelspec": {
   "display_name": "Python 3 (ipykernel)",
   "language": "python",
   "name": "python3"
  },
  "language_info": {
   "codemirror_mode": {
    "name": "ipython",
    "version": 3
   },
   "file_extension": ".py",
   "mimetype": "text/x-python",
   "name": "python",
   "nbconvert_exporter": "python",
   "pygments_lexer": "ipython3",
   "version": "3.12.2"
  }
 },
 "nbformat": 4,
 "nbformat_minor": 5
}
