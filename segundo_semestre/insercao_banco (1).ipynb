{
 "cells": [
  {
   "cell_type": "code",
   "execution_count": 2,
   "id": "b03a18fd-3c1f-4a65-96d5-13ed6a5ae210",
   "metadata": {},
   "outputs": [],
   "source": [
    "import sqlite3\n",
    "import json"
   ]
  },
  {
   "cell_type": "code",
   "execution_count": 20,
   "id": "1f02a323-2a33-4452-b2f2-88af611e9be3",
   "metadata": {},
   "outputs": [
    {
     "ename": "OperationalError",
     "evalue": "table USUARIOS already exists",
     "output_type": "error",
     "traceback": [
      "\u001b[1;31m---------------------------------------------------------------------------\u001b[0m",
      "\u001b[1;31mOperationalError\u001b[0m                          Traceback (most recent call last)",
      "Cell \u001b[1;32mIn[20], line 14\u001b[0m\n\u001b[0;32m     12\u001b[0m \u001b[38;5;28;01mwith\u001b[39;00m sqlite3\u001b[38;5;241m.\u001b[39mconnect(\u001b[38;5;124m'\u001b[39m\u001b[38;5;124musuarios.db\u001b[39m\u001b[38;5;124m'\u001b[39m) \u001b[38;5;28;01mas\u001b[39;00m conn:\n\u001b[0;32m     13\u001b[0m     cursor \u001b[38;5;241m=\u001b[39m conn\u001b[38;5;241m.\u001b[39mcursor()\n\u001b[1;32m---> 14\u001b[0m     \u001b[43mcursor\u001b[49m\u001b[38;5;241;43m.\u001b[39;49m\u001b[43mexecute\u001b[49m\u001b[43m(\u001b[49m\u001b[43mquery\u001b[49m\u001b[43m)\u001b[49m\n",
      "\u001b[1;31mOperationalError\u001b[0m: table USUARIOS already exists"
     ]
    }
   ],
   "source": [
    "\n",
    "\n",
    "query = ''' CREATE TABLE USUARIOS(\n",
    "    nome VARCHAR2(60),\n",
    "    sobrenome VARCHAR2(70),\n",
    "    idade INTEGER,\n",
    "    cidade VARCHAR2(80),\n",
    "    estado CHAR(2),\n",
    "    CEP INTEGER\n",
    "    )'''\n",
    "\n",
    "\n",
    "\n",
    "with sqlite3.connect('usuarios.db') as conn:\n",
    "    cursor = conn.cursor()\n",
    "    cursor.execute(query)"
   ]
  },
  {
   "cell_type": "code",
   "execution_count": 17,
   "id": "c1119913-0bc2-4705-82dc-54e1350900f6",
   "metadata": {},
   "outputs": [],
   "source": [
    "with open('posicional.txt', encoding='utf-8') as file:\n",
    "    lista = file.readlines()\n",
    "def limpar_dado(dado: str):\n",
    "    return dado.strip()\n",
    "def fazer_dic(lista):\n",
    "    lista_dic = []\n",
    "\n",
    "    for linha in lista:\n",
    "        nome = limpar_dado(linha[:31]) # nome\n",
    "        sobrenome = limpar_dado(linha[31:62]) # sobrenome\n",
    "        idade = limpar_dado(linha[62:69]) # idade\n",
    "        cidade = limpar_dado(linha[69:89]) # cidade\n",
    "        estado = limpar_dado(linha[89:96]) # estado\n",
    "        cep = linha[96:104] # cep\n",
    "        dic = {\n",
    "                'nome': nome,\n",
    "                'sobrenome': sobrenome,\n",
    "                'idade': idade,\n",
    "                'cidade': cidade,\n",
    "                'estado': estado,\n",
    "                'cep': cep \n",
    "            }\n",
    "        lista_dic.append(dic)\n",
    "    \n",
    "    return lista_dic\n"
   ]
  },
  {
   "cell_type": "code",
   "execution_count": 18,
   "id": "75aec522-76ce-4d44-90c9-b8599ca74f64",
   "metadata": {},
   "outputs": [],
   "source": [
    "lista_dic = fazer_dic(lista)\n",
    "\n",
    "with open('teste.json', mode='w') as file:\n",
    "    json.dump(lista_dic, file, indent=4, ensure_ascii=False)"
   ]
  },
  {
   "cell_type": "code",
   "execution_count": 8,
   "id": "db57668b-3268-42f5-9325-463f8cf2b95f",
   "metadata": {},
   "outputs": [
    {
     "name": "stdout",
     "output_type": "stream",
     "text": [
      "[('Nome', 'Sobrenome', 'Idade', 'Cidade', 'Estado', 'CEP     '), ('-------------------------------', '-------------------------------', '-------', '--------------------', '-------', '--------'), ('Maria', 'Silva', 29, 'São Paulo', 'SP', 1001000), ('João', 'Souza', 34, 'Rio de Janeiro', 'RJ', 20040002), ('Ana', 'Pereira', 45, 'Belo Horizonte', 'MG', 30130010), ('Carlos', 'Oliveira', 56, 'Porto Alegre', 'RS', 90040020), ('Fernanda', 'Santos', 32, 'Salvador', 'BA', 40020030), ('Marcos', 'Lima', 40, 'Curitiba', 'PR', 80030040), ('Luciana', 'Almeida', 25, 'Fortaleza', 'CE', 60040050), ('Rafael', 'Gomes', 39, 'Manaus', 'AM', 69020060), ('Juliana', 'Costa', 48, 'Recife', 'PE', 50010070), ('Rodrigo', 'Fernandes', 52, 'Brasília', 'DF', 70000080), ('Bruna', 'Rodrigues', 27, 'São Paulo', 'SP', 1002000), ('Eduardo', 'Moreira', 35, 'Campinas', 'SP', 13010001), ('Gabriela', 'Melo', 44, 'Goiânia', 'GO', 74020002), ('André', 'Lima', 50, 'Porto Alegre', 'RS', 90050030), ('Patrícia', 'Nascimento', 31, 'Curitiba', 'PR', 80040040), ('Thiago', 'Martins', 46, 'Salvador', 'BA', 40030050), ('Camila', 'Albuquerque', 33, 'Belo Horizonte', 'MG', 30140060), ('Fernando', 'Carvalho', 47, 'São Luís', 'MA', 65010070), ('Carla', 'Neves', 28, 'Recife', 'PE', 50020080), ('Lucas', 'Batista', 41, 'Rio de Janeiro', 'RJ', 20050090), ('Isabela', 'Azevedo', 30, 'Fortaleza', 'CE', 60030010), ('Vinícius', 'Teixeira', 38, 'Brasília', 'DF', 70010020), ('Paula', 'Ferreira', 36, 'Manaus', 'AM', 69030030), ('Guilherme', 'Almeida', 42, 'Belém', 'PA', 66010040), ('Aline', 'Souza', 26, 'Curitiba', 'PR', 80050050), ('Ricardo', 'Barbosa', 49, 'Porto Alegre', 'RS', 90060060), ('Tatiana', 'Silva', 53, 'São Paulo', 'SP', 1003000), ('Gustavo', 'Rocha', 37, 'Belo Horizonte', 'MG', 30150070), ('Mariana', 'Costa', 24, 'Recife', 'PE', 50030080), ('Roberto', 'Fernandes', 55, 'Goiânia', 'GO', 74030090), ('Lorena', 'Almeida', 32, 'Curitiba', 'PR', 80060010), ('Felipe', 'Gomes', 43, 'Fortaleza', 'CE', 60040020), ('Vitor', 'Santos', 39, 'Manaus', 'AM', 69040030), ('Bianca', 'Nunes', 27, 'São Paulo', 'SP', 1004000), ('Rogério', 'Oliveira', 51, 'Porto Alegre', 'RS', 90070040), ('Juliana', 'Moreira', 33, 'Salvador', 'BA', 40040050), ('Leandro', 'Pereira', 46, 'Belo Horizonte', 'MG', 30160060), ('Priscila', 'Araújo', 29, 'Goiânia', 'GO', 74040070), ('Henrique', 'Martins', 40, 'Curitiba', 'PR', 80070080), ('Lívia', 'Souza', 28, 'Recife', 'PE', 50040090), ('Renato', 'Mendes', 54, 'São Paulo', 'SP', 1005000), ('Alice', 'Nascimento', 25, 'Porto Alegre', 'RS', 90080010), ('Daniel', 'Carvalho', 48, 'Salvador', 'BA', 40050020), ('Adriana', 'Almeida', 30, 'Belo Horizonte', 'MG', 30170030), ('Rodrigo', 'Rocha', 52, 'Fortaleza', 'CE', 60050040), ('Bruno', 'Lima', 41, 'Manaus', 'AM', 69050050), ('Letícia', 'Souza', 26, 'Curitiba', 'PR', 80080060), ('Igor', 'Nunes', 39, 'Goiânia', 'GO', 74050070), ('Juliana', 'Santos', 45, 'Salvador', 'BA', 40060080), ('Eduarda', 'Rocha', 32, 'São Paulo', 'SP', 1006000), ('Marcelo', 'Oliveira', 49, 'Porto Alegre', 'RS', 90090010), ('Rafaela', 'Pereira', 37, 'Belo Horizonte', 'MG', 30180020), ('Joana', 'Martins', 31, 'Goiânia', 'GO', 74060030), ('Paulo', 'Nascimento', 43, 'Curitiba', 'PR', 80090040), ('Carolina', 'Souza', 28, 'Recife', 'PE', 50050050), ('Renata', 'Costa', 50, 'Manaus', 'AM', 69060060), ('Thiago', 'Gomes', 47, 'Fortaleza', 'CE', 60060070), ('Luiz', 'Lima', 38, 'São Paulo', 'SP', 1007000), ('Marina', 'Almeida', 24, 'Belo Horizonte', 'MG', 30190030), ('Gustavo', 'Santos', 51, 'Porto Alegre', 'RS', 90100040), ('Flávia', 'Silva', 35, 'Curitiba', 'PR', 80100050), ('Ricardo', 'Moreira', 49, 'Goiânia', 'GO', 74070060), ('Vanessa', 'Nunes', 33, 'Salvador', 'BA', 40070070), ('Mateus', 'Barbosa', 36, 'Fortaleza', 'CE', 60070080), ('Bianca', 'Azevedo', 32, 'São Paulo', 'SP', 1008000), ('Vinícius', 'Ferreira', 48, 'Manaus', 'AM', 69070010), ('Juliana', 'Martins', 29, 'Recife', 'PE', 50060020), ('Guilherme', 'Nascimento', 41, 'Curitiba', 'PR', 80110030), ('Patrícia', 'Souza', 50, 'Porto Alegre', 'RS', 90110040), ('Felipe', 'Santos', 45, 'Salvador', 'BA', 40080050), ('Daniela', 'Almeida', 30, 'Belo Horizonte', 'MG', 30200060), ('Leandro', 'Pereira', 37, 'Goiânia', 'GO', 74080070), ('Rafael', 'Silva', 44, 'São Paulo', 'SP', 1009000), ('Camila', 'Lima', 39, 'Fortaleza', 'CE', 60080080), ('Fernanda', 'Gomes', 31, 'Porto Alegre', 'RS', 90120090), ('Rodrigo', 'Nunes', 53, 'Curitiba', 'PR', 80120010), ('Larissa', 'Barbosa', 24, 'Manaus', 'AM', 69080020), ('André', 'Rocha', 46, 'Goiânia', 'GO', 74090030), ('Juliana', 'Moreira', 33, 'Salvador', 'BA', 40090040), ('Gabriel', 'Azevedo', 38, 'São Paulo', 'SP', 1010000), ('Mariana', 'Santos', 27, 'Recife', 'PE', 50070050), ('Renato', 'Nascimento', 52, 'Belo Horizonte', 'MG', 30210060), ('Roberta', 'Souza', 43, 'Porto Alegre', 'RS', 90130070), ('Fernando', 'Lima', 50, 'Manaus', 'AM', 69090080), ('Bruna', 'Carvalho', 28, 'Fortaleza', 'CE', 60090090), ('Lucas', 'Nascimento', 36, 'Goiânia', 'GO', 74100010), ('Isabela', 'Costa', 41, 'Salvador', 'BA', 40100020), ('Gustavo', 'Silva', 30, 'São Paulo', 'SP', 1011000), ('Carolina', 'Almeida', 44, 'Curitiba', 'PR', 80130030), ('Marcelo', 'Moreira', 37, 'Porto Alegre', 'RS', 90140040), ('Nome', 'Sobrenome', 'Idade', 'Cidade', 'Estado', 'CEP     '), ('-------------------------------', '-------------------------------', '-------', '--------------------', '-------', '--------'), ('Maria', 'Silva', 29, 'São Paulo', 'SP', 1001000), ('João', 'Souza', 34, 'Rio de Janeiro', 'RJ', 20040002), ('Ana', 'Pereira', 45, 'Belo Horizonte', 'MG', 30130010), ('Carlos', 'Oliveira', 56, 'Porto Alegre', 'RS', 90040020), ('Fernanda', 'Santos', 32, 'Salvador', 'BA', 40020030), ('Marcos', 'Lima', 40, 'Curitiba', 'PR', 80030040), ('Luciana', 'Almeida', 25, 'Fortaleza', 'CE', 60040050), ('Rafael', 'Gomes', 39, 'Manaus', 'AM', 69020060), ('Juliana', 'Costa', 48, 'Recife', 'PE', 50010070), ('Rodrigo', 'Fernandes', 52, 'Brasília', 'DF', 70000080), ('Bruna', 'Rodrigues', 27, 'São Paulo', 'SP', 1002000), ('Eduardo', 'Moreira', 35, 'Campinas', 'SP', 13010001), ('Gabriela', 'Melo', 44, 'Goiânia', 'GO', 74020002), ('André', 'Lima', 50, 'Porto Alegre', 'RS', 90050030), ('Patrícia', 'Nascimento', 31, 'Curitiba', 'PR', 80040040), ('Thiago', 'Martins', 46, 'Salvador', 'BA', 40030050), ('Camila', 'Albuquerque', 33, 'Belo Horizonte', 'MG', 30140060), ('Fernando', 'Carvalho', 47, 'São Luís', 'MA', 65010070), ('Carla', 'Neves', 28, 'Recife', 'PE', 50020080), ('Lucas', 'Batista', 41, 'Rio de Janeiro', 'RJ', 20050090), ('Isabela', 'Azevedo', 30, 'Fortaleza', 'CE', 60030010), ('Vinícius', 'Teixeira', 38, 'Brasília', 'DF', 70010020), ('Paula', 'Ferreira', 36, 'Manaus', 'AM', 69030030), ('Guilherme', 'Almeida', 42, 'Belém', 'PA', 66010040), ('Aline', 'Souza', 26, 'Curitiba', 'PR', 80050050), ('Ricardo', 'Barbosa', 49, 'Porto Alegre', 'RS', 90060060), ('Tatiana', 'Silva', 53, 'São Paulo', 'SP', 1003000), ('Gustavo', 'Rocha', 37, 'Belo Horizonte', 'MG', 30150070), ('Mariana', 'Costa', 24, 'Recife', 'PE', 50030080), ('Roberto', 'Fernandes', 55, 'Goiânia', 'GO', 74030090), ('Lorena', 'Almeida', 32, 'Curitiba', 'PR', 80060010), ('Felipe', 'Gomes', 43, 'Fortaleza', 'CE', 60040020), ('Vitor', 'Santos', 39, 'Manaus', 'AM', 69040030), ('Bianca', 'Nunes', 27, 'São Paulo', 'SP', 1004000), ('Rogério', 'Oliveira', 51, 'Porto Alegre', 'RS', 90070040), ('Juliana', 'Moreira', 33, 'Salvador', 'BA', 40040050), ('Leandro', 'Pereira', 46, 'Belo Horizonte', 'MG', 30160060), ('Priscila', 'Araújo', 29, 'Goiânia', 'GO', 74040070), ('Henrique', 'Martins', 40, 'Curitiba', 'PR', 80070080), ('Lívia', 'Souza', 28, 'Recife', 'PE', 50040090), ('Renato', 'Mendes', 54, 'São Paulo', 'SP', 1005000), ('Alice', 'Nascimento', 25, 'Porto Alegre', 'RS', 90080010), ('Daniel', 'Carvalho', 48, 'Salvador', 'BA', 40050020), ('Adriana', 'Almeida', 30, 'Belo Horizonte', 'MG', 30170030), ('Rodrigo', 'Rocha', 52, 'Fortaleza', 'CE', 60050040), ('Bruno', 'Lima', 41, 'Manaus', 'AM', 69050050), ('Letícia', 'Souza', 26, 'Curitiba', 'PR', 80080060), ('Igor', 'Nunes', 39, 'Goiânia', 'GO', 74050070), ('Juliana', 'Santos', 45, 'Salvador', 'BA', 40060080), ('Eduarda', 'Rocha', 32, 'São Paulo', 'SP', 1006000), ('Marcelo', 'Oliveira', 49, 'Porto Alegre', 'RS', 90090010), ('Rafaela', 'Pereira', 37, 'Belo Horizonte', 'MG', 30180020), ('Joana', 'Martins', 31, 'Goiânia', 'GO', 74060030), ('Paulo', 'Nascimento', 43, 'Curitiba', 'PR', 80090040), ('Carolina', 'Souza', 28, 'Recife', 'PE', 50050050), ('Renata', 'Costa', 50, 'Manaus', 'AM', 69060060), ('Thiago', 'Gomes', 47, 'Fortaleza', 'CE', 60060070), ('Luiz', 'Lima', 38, 'São Paulo', 'SP', 1007000), ('Marina', 'Almeida', 24, 'Belo Horizonte', 'MG', 30190030), ('Gustavo', 'Santos', 51, 'Porto Alegre', 'RS', 90100040), ('Flávia', 'Silva', 35, 'Curitiba', 'PR', 80100050), ('Ricardo', 'Moreira', 49, 'Goiânia', 'GO', 74070060), ('Vanessa', 'Nunes', 33, 'Salvador', 'BA', 40070070), ('Mateus', 'Barbosa', 36, 'Fortaleza', 'CE', 60070080), ('Bianca', 'Azevedo', 32, 'São Paulo', 'SP', 1008000), ('Vinícius', 'Ferreira', 48, 'Manaus', 'AM', 69070010), ('Juliana', 'Martins', 29, 'Recife', 'PE', 50060020), ('Guilherme', 'Nascimento', 41, 'Curitiba', 'PR', 80110030), ('Patrícia', 'Souza', 50, 'Porto Alegre', 'RS', 90110040), ('Felipe', 'Santos', 45, 'Salvador', 'BA', 40080050), ('Daniela', 'Almeida', 30, 'Belo Horizonte', 'MG', 30200060), ('Leandro', 'Pereira', 37, 'Goiânia', 'GO', 74080070), ('Rafael', 'Silva', 44, 'São Paulo', 'SP', 1009000), ('Camila', 'Lima', 39, 'Fortaleza', 'CE', 60080080), ('Fernanda', 'Gomes', 31, 'Porto Alegre', 'RS', 90120090), ('Rodrigo', 'Nunes', 53, 'Curitiba', 'PR', 80120010), ('Larissa', 'Barbosa', 24, 'Manaus', 'AM', 69080020), ('André', 'Rocha', 46, 'Goiânia', 'GO', 74090030), ('Juliana', 'Moreira', 33, 'Salvador', 'BA', 40090040), ('Gabriel', 'Azevedo', 38, 'São Paulo', 'SP', 1010000), ('Mariana', 'Santos', 27, 'Recife', 'PE', 50070050), ('Renato', 'Nascimento', 52, 'Belo Horizonte', 'MG', 30210060), ('Roberta', 'Souza', 43, 'Porto Alegre', 'RS', 90130070), ('Fernando', 'Lima', 50, 'Manaus', 'AM', 69090080), ('Bruna', 'Carvalho', 28, 'Fortaleza', 'CE', 60090090), ('Lucas', 'Nascimento', 36, 'Goiânia', 'GO', 74100010), ('Isabela', 'Costa', 41, 'Salvador', 'BA', 40100020), ('Gustavo', 'Silva', 30, 'São Paulo', 'SP', 1011000), ('Carolina', 'Almeida', 44, 'Curitiba', 'PR', 80130030), ('Marcelo', 'Moreira', 37, 'Porto Alegre', 'RS', 90140040), ('Nome', 'Sobrenome', 'Idade', 'Cidade', 'Estado', 'CEP     '), ('-------------------------------', '-------------------------------', '-------', '--------------------', '-------', '--------'), ('Maria', 'Silva', 29, 'São Paulo', 'SP', 1001000), ('João', 'Souza', 34, 'Rio de Janeiro', 'RJ', 20040002), ('Ana', 'Pereira', 45, 'Belo Horizonte', 'MG', 30130010), ('Carlos', 'Oliveira', 56, 'Porto Alegre', 'RS', 90040020), ('Fernanda', 'Santos', 32, 'Salvador', 'BA', 40020030), ('Marcos', 'Lima', 40, 'Curitiba', 'PR', 80030040), ('Luciana', 'Almeida', 25, 'Fortaleza', 'CE', 60040050), ('Rafael', 'Gomes', 39, 'Manaus', 'AM', 69020060), ('Juliana', 'Costa', 48, 'Recife', 'PE', 50010070), ('Rodrigo', 'Fernandes', 52, 'Brasília', 'DF', 70000080), ('Bruna', 'Rodrigues', 27, 'São Paulo', 'SP', 1002000), ('Eduardo', 'Moreira', 35, 'Campinas', 'SP', 13010001), ('Gabriela', 'Melo', 44, 'Goiânia', 'GO', 74020002), ('André', 'Lima', 50, 'Porto Alegre', 'RS', 90050030), ('Patrícia', 'Nascimento', 31, 'Curitiba', 'PR', 80040040), ('Thiago', 'Martins', 46, 'Salvador', 'BA', 40030050), ('Camila', 'Albuquerque', 33, 'Belo Horizonte', 'MG', 30140060), ('Fernando', 'Carvalho', 47, 'São Luís', 'MA', 65010070), ('Carla', 'Neves', 28, 'Recife', 'PE', 50020080), ('Lucas', 'Batista', 41, 'Rio de Janeiro', 'RJ', 20050090), ('Isabela', 'Azevedo', 30, 'Fortaleza', 'CE', 60030010), ('Vinícius', 'Teixeira', 38, 'Brasília', 'DF', 70010020), ('Paula', 'Ferreira', 36, 'Manaus', 'AM', 69030030), ('Guilherme', 'Almeida', 42, 'Belém', 'PA', 66010040), ('Aline', 'Souza', 26, 'Curitiba', 'PR', 80050050), ('Ricardo', 'Barbosa', 49, 'Porto Alegre', 'RS', 90060060), ('Tatiana', 'Silva', 53, 'São Paulo', 'SP', 1003000), ('Gustavo', 'Rocha', 37, 'Belo Horizonte', 'MG', 30150070), ('Mariana', 'Costa', 24, 'Recife', 'PE', 50030080), ('Roberto', 'Fernandes', 55, 'Goiânia', 'GO', 74030090), ('Lorena', 'Almeida', 32, 'Curitiba', 'PR', 80060010), ('Felipe', 'Gomes', 43, 'Fortaleza', 'CE', 60040020), ('Vitor', 'Santos', 39, 'Manaus', 'AM', 69040030), ('Bianca', 'Nunes', 27, 'São Paulo', 'SP', 1004000), ('Rogério', 'Oliveira', 51, 'Porto Alegre', 'RS', 90070040), ('Juliana', 'Moreira', 33, 'Salvador', 'BA', 40040050), ('Leandro', 'Pereira', 46, 'Belo Horizonte', 'MG', 30160060), ('Priscila', 'Araújo', 29, 'Goiânia', 'GO', 74040070), ('Henrique', 'Martins', 40, 'Curitiba', 'PR', 80070080), ('Lívia', 'Souza', 28, 'Recife', 'PE', 50040090), ('Renato', 'Mendes', 54, 'São Paulo', 'SP', 1005000), ('Alice', 'Nascimento', 25, 'Porto Alegre', 'RS', 90080010), ('Daniel', 'Carvalho', 48, 'Salvador', 'BA', 40050020), ('Adriana', 'Almeida', 30, 'Belo Horizonte', 'MG', 30170030), ('Rodrigo', 'Rocha', 52, 'Fortaleza', 'CE', 60050040), ('Bruno', 'Lima', 41, 'Manaus', 'AM', 69050050), ('Letícia', 'Souza', 26, 'Curitiba', 'PR', 80080060), ('Igor', 'Nunes', 39, 'Goiânia', 'GO', 74050070), ('Juliana', 'Santos', 45, 'Salvador', 'BA', 40060080), ('Eduarda', 'Rocha', 32, 'São Paulo', 'SP', 1006000), ('Marcelo', 'Oliveira', 49, 'Porto Alegre', 'RS', 90090010), ('Rafaela', 'Pereira', 37, 'Belo Horizonte', 'MG', 30180020), ('Joana', 'Martins', 31, 'Goiânia', 'GO', 74060030), ('Paulo', 'Nascimento', 43, 'Curitiba', 'PR', 80090040), ('Carolina', 'Souza', 28, 'Recife', 'PE', 50050050), ('Renata', 'Costa', 50, 'Manaus', 'AM', 69060060), ('Thiago', 'Gomes', 47, 'Fortaleza', 'CE', 60060070), ('Luiz', 'Lima', 38, 'São Paulo', 'SP', 1007000), ('Marina', 'Almeida', 24, 'Belo Horizonte', 'MG', 30190030), ('Gustavo', 'Santos', 51, 'Porto Alegre', 'RS', 90100040), ('Flávia', 'Silva', 35, 'Curitiba', 'PR', 80100050), ('Ricardo', 'Moreira', 49, 'Goiânia', 'GO', 74070060), ('Vanessa', 'Nunes', 33, 'Salvador', 'BA', 40070070), ('Mateus', 'Barbosa', 36, 'Fortaleza', 'CE', 60070080), ('Bianca', 'Azevedo', 32, 'São Paulo', 'SP', 1008000), ('Vinícius', 'Ferreira', 48, 'Manaus', 'AM', 69070010), ('Juliana', 'Martins', 29, 'Recife', 'PE', 50060020), ('Guilherme', 'Nascimento', 41, 'Curitiba', 'PR', 80110030), ('Patrícia', 'Souza', 50, 'Porto Alegre', 'RS', 90110040), ('Felipe', 'Santos', 45, 'Salvador', 'BA', 40080050), ('Daniela', 'Almeida', 30, 'Belo Horizonte', 'MG', 30200060), ('Leandro', 'Pereira', 37, 'Goiânia', 'GO', 74080070), ('Rafael', 'Silva', 44, 'São Paulo', 'SP', 1009000), ('Camila', 'Lima', 39, 'Fortaleza', 'CE', 60080080), ('Fernanda', 'Gomes', 31, 'Porto Alegre', 'RS', 90120090), ('Rodrigo', 'Nunes', 53, 'Curitiba', 'PR', 80120010), ('Larissa', 'Barbosa', 24, 'Manaus', 'AM', 69080020), ('André', 'Rocha', 46, 'Goiânia', 'GO', 74090030), ('Juliana', 'Moreira', 33, 'Salvador', 'BA', 40090040), ('Gabriel', 'Azevedo', 38, 'São Paulo', 'SP', 1010000), ('Mariana', 'Santos', 27, 'Recife', 'PE', 50070050), ('Renato', 'Nascimento', 52, 'Belo Horizonte', 'MG', 30210060), ('Roberta', 'Souza', 43, 'Porto Alegre', 'RS', 90130070), ('Fernando', 'Lima', 50, 'Manaus', 'AM', 69090080), ('Bruna', 'Carvalho', 28, 'Fortaleza', 'CE', 60090090), ('Lucas', 'Nascimento', 36, 'Goiânia', 'GO', 74100010), ('Isabela', 'Costa', 41, 'Salvador', 'BA', 40100020), ('Gustavo', 'Silva', 30, 'São Paulo', 'SP', 1011000), ('Carolina', 'Almeida', 44, 'Curitiba', 'PR', 80130030), ('Marcelo', 'Moreira', 37, 'Porto Alegre', 'RS', 90140040), ('Nome', 'Sobrenome', 'Idade', 'Cidade', 'Estado', 'CEP     '), ('-------------------------------', '-------------------------------', '-------', '--------------------', '-------', '--------'), ('Maria', 'Silva', 29, 'São Paulo', 'SP', 1001000), ('João', 'Souza', 34, 'Rio de Janeiro', 'RJ', 20040002), ('Ana', 'Pereira', 45, 'Belo Horizonte', 'MG', 30130010), ('Carlos', 'Oliveira', 56, 'Porto Alegre', 'RS', 90040020), ('Fernanda', 'Santos', 32, 'Salvador', 'BA', 40020030), ('Marcos', 'Lima', 40, 'Curitiba', 'PR', 80030040), ('Luciana', 'Almeida', 25, 'Fortaleza', 'CE', 60040050), ('Rafael', 'Gomes', 39, 'Manaus', 'AM', 69020060), ('Juliana', 'Costa', 48, 'Recife', 'PE', 50010070), ('Rodrigo', 'Fernandes', 52, 'Brasília', 'DF', 70000080), ('Bruna', 'Rodrigues', 27, 'São Paulo', 'SP', 1002000), ('Eduardo', 'Moreira', 35, 'Campinas', 'SP', 13010001), ('Gabriela', 'Melo', 44, 'Goiânia', 'GO', 74020002), ('André', 'Lima', 50, 'Porto Alegre', 'RS', 90050030), ('Patrícia', 'Nascimento', 31, 'Curitiba', 'PR', 80040040), ('Thiago', 'Martins', 46, 'Salvador', 'BA', 40030050), ('Camila', 'Albuquerque', 33, 'Belo Horizonte', 'MG', 30140060), ('Fernando', 'Carvalho', 47, 'São Luís', 'MA', 65010070), ('Carla', 'Neves', 28, 'Recife', 'PE', 50020080), ('Lucas', 'Batista', 41, 'Rio de Janeiro', 'RJ', 20050090), ('Isabela', 'Azevedo', 30, 'Fortaleza', 'CE', 60030010), ('Vinícius', 'Teixeira', 38, 'Brasília', 'DF', 70010020), ('Paula', 'Ferreira', 36, 'Manaus', 'AM', 69030030), ('Guilherme', 'Almeida', 42, 'Belém', 'PA', 66010040), ('Aline', 'Souza', 26, 'Curitiba', 'PR', 80050050), ('Ricardo', 'Barbosa', 49, 'Porto Alegre', 'RS', 90060060), ('Tatiana', 'Silva', 53, 'São Paulo', 'SP', 1003000), ('Gustavo', 'Rocha', 37, 'Belo Horizonte', 'MG', 30150070), ('Mariana', 'Costa', 24, 'Recife', 'PE', 50030080), ('Roberto', 'Fernandes', 55, 'Goiânia', 'GO', 74030090), ('Lorena', 'Almeida', 32, 'Curitiba', 'PR', 80060010), ('Felipe', 'Gomes', 43, 'Fortaleza', 'CE', 60040020), ('Vitor', 'Santos', 39, 'Manaus', 'AM', 69040030), ('Bianca', 'Nunes', 27, 'São Paulo', 'SP', 1004000), ('Rogério', 'Oliveira', 51, 'Porto Alegre', 'RS', 90070040), ('Juliana', 'Moreira', 33, 'Salvador', 'BA', 40040050), ('Leandro', 'Pereira', 46, 'Belo Horizonte', 'MG', 30160060), ('Priscila', 'Araújo', 29, 'Goiânia', 'GO', 74040070), ('Henrique', 'Martins', 40, 'Curitiba', 'PR', 80070080), ('Lívia', 'Souza', 28, 'Recife', 'PE', 50040090), ('Renato', 'Mendes', 54, 'São Paulo', 'SP', 1005000), ('Alice', 'Nascimento', 25, 'Porto Alegre', 'RS', 90080010), ('Daniel', 'Carvalho', 48, 'Salvador', 'BA', 40050020), ('Adriana', 'Almeida', 30, 'Belo Horizonte', 'MG', 30170030), ('Rodrigo', 'Rocha', 52, 'Fortaleza', 'CE', 60050040), ('Bruno', 'Lima', 41, 'Manaus', 'AM', 69050050), ('Letícia', 'Souza', 26, 'Curitiba', 'PR', 80080060), ('Igor', 'Nunes', 39, 'Goiânia', 'GO', 74050070), ('Juliana', 'Santos', 45, 'Salvador', 'BA', 40060080), ('Eduarda', 'Rocha', 32, 'São Paulo', 'SP', 1006000), ('Marcelo', 'Oliveira', 49, 'Porto Alegre', 'RS', 90090010), ('Rafaela', 'Pereira', 37, 'Belo Horizonte', 'MG', 30180020), ('Joana', 'Martins', 31, 'Goiânia', 'GO', 74060030), ('Paulo', 'Nascimento', 43, 'Curitiba', 'PR', 80090040), ('Carolina', 'Souza', 28, 'Recife', 'PE', 50050050), ('Renata', 'Costa', 50, 'Manaus', 'AM', 69060060), ('Thiago', 'Gomes', 47, 'Fortaleza', 'CE', 60060070), ('Luiz', 'Lima', 38, 'São Paulo', 'SP', 1007000), ('Marina', 'Almeida', 24, 'Belo Horizonte', 'MG', 30190030), ('Gustavo', 'Santos', 51, 'Porto Alegre', 'RS', 90100040), ('Flávia', 'Silva', 35, 'Curitiba', 'PR', 80100050), ('Ricardo', 'Moreira', 49, 'Goiânia', 'GO', 74070060), ('Vanessa', 'Nunes', 33, 'Salvador', 'BA', 40070070), ('Mateus', 'Barbosa', 36, 'Fortaleza', 'CE', 60070080), ('Bianca', 'Azevedo', 32, 'São Paulo', 'SP', 1008000), ('Vinícius', 'Ferreira', 48, 'Manaus', 'AM', 69070010), ('Juliana', 'Martins', 29, 'Recife', 'PE', 50060020), ('Guilherme', 'Nascimento', 41, 'Curitiba', 'PR', 80110030), ('Patrícia', 'Souza', 50, 'Porto Alegre', 'RS', 90110040), ('Felipe', 'Santos', 45, 'Salvador', 'BA', 40080050), ('Daniela', 'Almeida', 30, 'Belo Horizonte', 'MG', 30200060), ('Leandro', 'Pereira', 37, 'Goiânia', 'GO', 74080070), ('Rafael', 'Silva', 44, 'São Paulo', 'SP', 1009000), ('Camila', 'Lima', 39, 'Fortaleza', 'CE', 60080080), ('Fernanda', 'Gomes', 31, 'Porto Alegre', 'RS', 90120090), ('Rodrigo', 'Nunes', 53, 'Curitiba', 'PR', 80120010), ('Larissa', 'Barbosa', 24, 'Manaus', 'AM', 69080020), ('André', 'Rocha', 46, 'Goiânia', 'GO', 74090030), ('Juliana', 'Moreira', 33, 'Salvador', 'BA', 40090040), ('Gabriel', 'Azevedo', 38, 'São Paulo', 'SP', 1010000), ('Mariana', 'Santos', 27, 'Recife', 'PE', 50070050), ('Renato', 'Nascimento', 52, 'Belo Horizonte', 'MG', 30210060), ('Roberta', 'Souza', 43, 'Porto Alegre', 'RS', 90130070), ('Fernando', 'Lima', 50, 'Manaus', 'AM', 69090080), ('Bruna', 'Carvalho', 28, 'Fortaleza', 'CE', 60090090), ('Lucas', 'Nascimento', 36, 'Goiânia', 'GO', 74100010), ('Isabela', 'Costa', 41, 'Salvador', 'BA', 40100020), ('Gustavo', 'Silva', 30, 'São Paulo', 'SP', 1011000), ('Carolina', 'Almeida', 44, 'Curitiba', 'PR', 80130030), ('Marcelo', 'Moreira', 37, 'Porto Alegre', 'RS', 90140040)]\n"
     ]
    }
   ],
   "source": [
    "with open('posicional.txt', encoding='utf-8') as file:\n",
    "    lista = file.readlines()\n",
    "    \n",
    "def limpar_dado(dado: str):\n",
    "    \n",
    "    return dado.strip()\n",
    "\n",
    "with sqlite3.connect('usuarios.db') as conn:\n",
    "    cursor = conn.cursor()\n",
    "    insert = f'''INSERT INTO USUARIOS (nome, sobrenome, idade, cidade, estado, cep) VALUES (?,?,?,?,?,?)'''\n",
    "    for linha in lista:\n",
    "        nome = limpar_dado(linha[:31]) # nome\n",
    "        sobrenome = limpar_dado(linha[31:62]) # sobrenome\n",
    "        idade = limpar_dado(linha[62:69]) # idade\n",
    "        cidade = limpar_dado(linha[69:89]) # cidade\n",
    "        estado = limpar_dado(linha[89:96]) # estado\n",
    "        cep = linha[96:104] # cep\n",
    "    \n",
    "        dados = (nome,sobrenome,idade,cidade,estado,cep)\n",
    "        \n",
    "        cursor.execute(insert, dados)\n",
    "\n",
    "        ler_insercoes = cursor.execute(\"SELECT * FROM USUARIOS\")\n",
    "\n",
    "        usuarios = ler_insercoes.fetchall()\n",
    "\n",
    "print(usuarios)"
   ]
  },
  {
   "cell_type": "code",
   "execution_count": 6,
   "id": "2da1ce53-8b78-468f-a529-3fd2bf844a3f",
   "metadata": {},
   "outputs": [
    {
     "name": "stdout",
     "output_type": "stream",
     "text": [
      "<built-in method fetchall of sqlite3.Cursor object at 0x000001918B3363C0>\n"
     ]
    }
   ],
   "source": []
  },
  {
   "cell_type": "code",
   "execution_count": null,
   "id": "ad9f2f61-aa53-4cd9-8e07-f1905077d917",
   "metadata": {},
   "outputs": [],
   "source": []
  }
 ],
 "metadata": {
  "kernelspec": {
   "display_name": "Python 3 (ipykernel)",
   "language": "python",
   "name": "python3"
  },
  "language_info": {
   "codemirror_mode": {
    "name": "ipython",
    "version": 3
   },
   "file_extension": ".py",
   "mimetype": "text/x-python",
   "name": "python",
   "nbconvert_exporter": "python",
   "pygments_lexer": "ipython3",
   "version": "3.12.3"
  }
 },
 "nbformat": 4,
 "nbformat_minor": 5
}
