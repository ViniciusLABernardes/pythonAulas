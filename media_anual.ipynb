{
 "cells": [
  {
   "cell_type": "code",
   "execution_count": 39,
   "metadata": {},
   "outputs": [
    {
     "name": "stdout",
     "output_type": "stream",
     "text": [
      "6.6\n",
      "8.1\n",
      "7.5\n"
     ]
    }
   ],
   "source": [
    "\n",
    "cps = [7, 6, 6]\n",
    "cp_menor_nota = min(cps)\n",
    "cps.remove(cp_menor_nota)\n",
    "cp1 = cps[0] * 0.10\n",
    "cp2 = cps[1] * 0.10\n",
    "\n",
    "challenge1 = 8\n",
    "challenge2 = 9\n",
    "\n",
    "challenge1nota = challenge1 * 0.10\n",
    "challenge2nota = challenge2 * 0.10\n",
    "\n",
    "global_solution = 6\n",
    "global_solution_nota = global_solution * 0.6\n",
    "\n",
    "media_semestral = (cp1 + cp2 + challenge1nota + challenge2nota + global_solution_nota)\n",
    "media_semestral_valor = media_semestral * 0.4\n",
    "\n",
    "print(media_semestral)\n",
    "\n",
    "cps2 = [7, 8, 9]\n",
    "cp_menor_nota2 = min(cps2)\n",
    "cps2.remove(cp_menor_nota2)\n",
    "cp3 = cps[0] * 0.10\n",
    "cp4 = cps[1] * 0.10\n",
    "\n",
    "challenge3 = 10\n",
    "challenge4 = 10\n",
    "\n",
    "challenge3nota = challenge3 * 0.10\n",
    "challenge4nota = challenge4 * 0.10\n",
    "\n",
    "global_solution2 = 8\n",
    "global_solution_nota2 = global_solution2 * 0.6\n",
    "\n",
    "media_semestral2 = (cp3 + cp4 + challenge3nota + challenge4nota + global_solution_nota2)\n",
    "\n",
    "media_semestral2_valor = media_semestral2 * 0.6\n",
    "\n",
    "print(media_semestral2)\n",
    "\n",
    "media_anual = (media_semestral_valor + media_semestral2_valor)\n",
    "\n",
    "print(media_anual)\n"
   ]
  },
  {
   "attachments": {},
   "cell_type": "markdown",
   "metadata": {},
   "source": [
    "# codigo do professor"
   ]
  },
  {
   "cell_type": "code",
   "execution_count": 40,
   "metadata": {},
   "outputs": [],
   "source": [
    "def nota_final(\n",
    "        cp11, cp21, cp31, sp1, sp2, gs1,\n",
    "        cp12, cp22, cp32, sp3, sp4, gs2):\n",
    "    \n",
    "        cp1 = [cp11, cp21, cp31]\n",
    "        cp2 = [cp12, cp22, cp32]\n",
    "\n",
    "        cp1.sort(reverse=True)\n",
    "        cp2.sort(reverse=True)\n",
    "\n",
    "        s1 = cp1[0] * .1 + cp1[1] * .1 + sp1 * .1 + sp2 * .1 + gs1 * .6\n",
    "        s2 = cp2[0] * .1 + cp2[1] * .1 + sp3 * .1 + sp4 * .1 + gs2 * .6\n",
    "\n",
    "        return s1 * .4 + s2 * .6"
   ]
  },
  {
   "cell_type": "code",
   "execution_count": 41,
   "metadata": {},
   "outputs": [
    {
     "data": {
      "text/plain": [
       "7.860000000000001"
      ]
     },
     "execution_count": 41,
     "metadata": {},
     "output_type": "execute_result"
    }
   ],
   "source": [
    "nota_final(3,7,6,8,9,8,2,4,8,6,7,9)"
   ]
  }
 ],
 "metadata": {
  "kernelspec": {
   "display_name": "Python 3",
   "language": "python",
   "name": "python3"
  },
  "language_info": {
   "codemirror_mode": {
    "name": "ipython",
    "version": 3
   },
   "file_extension": ".py",
   "mimetype": "text/x-python",
   "name": "python",
   "nbconvert_exporter": "python",
   "pygments_lexer": "ipython3",
   "version": "3.11.4"
  },
  "orig_nbformat": 4
 },
 "nbformat": 4,
 "nbformat_minor": 2
}
